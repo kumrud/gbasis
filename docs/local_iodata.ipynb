{
 "cells": [
  {
   "cell_type": "code",
   "execution_count": 68,
   "metadata": {},
   "outputs": [],
   "source": [
    "import gbasis\n",
    "import pkg_resources\n",
    "gbasis.__file__, pkg_resources.get_distribution(\"gbasis\").version\n",
    "import numpy as np"
   ]
  },
  {
   "cell_type": "markdown",
   "metadata": {},
   "source": [
    "make sure it's the right gbasis. Conda installation of cgbasis has the same name 'gbasis'"
   ]
  },
  {
   "cell_type": "code",
   "execution_count": 69,
   "metadata": {},
   "outputs": [],
   "source": [
    "from gbasis.wrappers import from_iodata\n",
    "from iodata import load_one\n",
    "import os\n",
    "testfile = os.path.join(os.path.split(os.getcwd())[0], 'tests/data_iodata_water_sto3g_hf_g03.fchk')\n",
    "mol = load_one(testfile)\n",
    "basis = from_iodata(mol)"
   ]
  },
  {
   "cell_type": "code",
   "execution_count": 70,
   "metadata": {},
   "outputs": [
    {
     "data": {
      "text/plain": [
       "('/home/ickis/.local/lib/python3.7/site-packages/iodata/__init__.py',\n",
       " '0.0.0.post0')"
      ]
     },
     "execution_count": 70,
     "metadata": {},
     "output_type": "execute_result"
    }
   ],
   "source": [
    "import iodata\n",
    "iodata.__file__, pkg_resources.get_distribution(\"iodata\").version"
   ]
  },
  {
   "cell_type": "code",
   "execution_count": 71,
   "metadata": {},
   "outputs": [
    {
     "data": {
      "text/plain": [
       "IOData(atcharges={'mulliken': array([-0.38189777,  0.1909489 ,  0.19094886])}, atcoords=array([[ 0.        ,  0.        ,  0.        ],\n",
       "       [ 0.        ,  0.        ,  1.79523983],\n",
       "       [ 1.69257101,  0.        , -0.59840635]]), _atcorenums=array([8., 1., 1.]), atffparams={}, atfrozen=None, atgradient=array([[0., 0., 0.],\n",
       "       [0., 0., 0.],\n",
       "       [0., 0., 0.]]), athessian=None, atmasses=array([29156.94565572,  1837.15266112,  1837.15266112]), atnums=array([8, 1, 1]), basisdef=None, bonds=None, cellvecs=None, _charge=None, core_energy=None, cube=None, energy=-74.95929232844362, extcharges=None, extra={}, g_rot=None, lot='rhf', mo=MolecularOrbitals(kind='restricted', norba=7, norbb=7, occs=array([2., 2., 2., 2., 2., 0., 0.]), coeffs=array([[ 9.94099882e-01, -2.32889095e-01,  1.65502866e-08,\n",
       "         1.00235366e-01,  6.55422174e-16, -1.35631600e-01,\n",
       "         5.67656304e-08],\n",
       "       [ 2.67799213e-02,  8.31788042e-01, -9.03020278e-08,\n",
       "        -5.23423149e-01, -3.01062443e-15,  9.08581133e-01,\n",
       "        -4.29452063e-07],\n",
       "       [ 3.46630004e-03,  1.03349385e-01, -3.46565859e-01,\n",
       "         6.48259144e-01,  3.74502802e-15,  5.83295647e-01,\n",
       "         5.82525068e-01],\n",
       "       [ 2.72896277e-16, -2.21764760e-16,  4.92555323e-16,\n",
       "        -6.18875097e-15,  1.00000000e+00,  1.62509738e-16,\n",
       "        -6.76860125e-17],\n",
       "       [ 2.45105601e-03,  7.30794097e-02,  4.90116062e-01,\n",
       "         4.58390414e-01,  2.54192740e-15,  4.12453695e-01,\n",
       "        -8.23811720e-01],\n",
       "       [-6.08393842e-03,  1.60223990e-01,  4.41542336e-01,\n",
       "         2.69085788e-01,  1.34551715e-15, -8.07337352e-01,\n",
       "         8.42614916e-01],\n",
       "       [-6.08393693e-03,  1.60223948e-01, -4.41542341e-01,\n",
       "         2.69085849e-01,  1.99471214e-15, -8.07337875e-01,\n",
       "        -8.42614243e-01]]), energies=array([-20.2333942 ,  -1.26583942,  -0.62936509,  -0.44172499,\n",
       "        -0.38767178,   0.60308241,   0.7661348 ]), irreps=None), moments={(1, 'c'): array([ 5.46423145e-01, -1.25137695e-16,  3.86381228e-01])}, _nelec=None, obasis=MolecularBasis(shells=[Shell(icenter=0, angmoms=[0], kinds=['c'], exponents=array([130.709321  ,  23.8088661 ,   6.44360831]), coeffs=array([[0.15432897],\n",
       "       [0.53532814],\n",
       "       [0.44463454]])), Shell(icenter=0, angmoms=[0, 1], kinds=['c', 'c'], exponents=array([5.03315132, 1.16959612, 0.38038896]), coeffs=array([[-0.09996723,  0.15591627],\n",
       "       [ 0.39951283,  0.60768372],\n",
       "       [ 0.70011547,  0.39195739]])), Shell(icenter=1, angmoms=[0], kinds=['c'], exponents=array([3.42525091, 0.62391373, 0.1688554 ]), coeffs=array([[0.15432897],\n",
       "       [0.53532814],\n",
       "       [0.44463454]])), Shell(icenter=2, angmoms=[0], kinds=['c'], exponents=array([3.42525091, 0.62391373, 0.1688554 ]), coeffs=array([[0.15432897],\n",
       "       [0.53532814],\n",
       "       [0.44463454]]))], conventions={(9, 'p'): ['mc0', 'mc1', 'ms1', 'mc2', 'ms2', 'mc3', 'ms3', 'mc4', 'ms4', 'mc5', 'ms5', 'mc6', 'ms6', 'mc7', 'ms7', 'mc8', 'ms8', 'mc9', 'ms9'], (8, 'p'): ['lc0', 'lc1', 'ls1', 'lc2', 'ls2', 'lc3', 'ls3', 'lc4', 'ls4', 'lc5', 'ls5', 'lc6', 'ls6', 'lc7', 'ls7', 'lc8', 'ls8'], (7, 'p'): ['kc0', 'kc1', 'ks1', 'kc2', 'ks2', 'kc3', 'ks3', 'kc4', 'ks4', 'kc5', 'ks5', 'kc6', 'ks6', 'kc7', 'ks7'], (6, 'p'): ['ic0', 'ic1', 'is1', 'ic2', 'is2', 'ic3', 'is3', 'ic4', 'is4', 'ic5', 'is5', 'ic6', 'is6'], (5, 'p'): ['hc0', 'hc1', 'hs1', 'hc2', 'hs2', 'hc3', 'hs3', 'hc4', 'hs4', 'hc5', 'hs5'], (4, 'p'): ['gc0', 'gc1', 'gs1', 'gc2', 'gs2', 'gc3', 'gs3', 'gc4', 'gs4'], (3, 'p'): ['fc0', 'fc1', 'fs1', 'fc2', 'fs2', 'fc3', 'fs3'], (2, 'p'): ['dc0', 'dc1', 'ds1', 'dc2', 'ds2'], (0, 'c'): ['1'], (1, 'c'): ['x', 'y', 'z'], (2, 'c'): ['xx', 'yy', 'zz', 'xy', 'xz', 'yz'], (3, 'c'): ['xxx', 'yyy', 'zzz', 'xyy', 'xxy', 'xxz', 'xzz', 'yzz', 'yyz', 'xyz'], (4, 'c'): ['zzzz', 'yzzz', 'yyzz', 'yyyz', 'yyyy', 'xzzz', 'xyzz', 'xyyz', 'xyyy', 'xxzz', 'xxyz', 'xxyy', 'xxxz', 'xxxy', 'xxxx'], (5, 'c'): ['zzzzz', 'yzzzz', 'yyzzz', 'yyyzz', 'yyyyz', 'yyyyy', 'xzzzz', 'xyzzz', 'xyyzz', 'xyyyz', 'xyyyy', 'xxzzz', 'xxyzz', 'xxyyz', 'xxyyy', 'xxxzz', 'xxxyz', 'xxxyy', 'xxxxz', 'xxxxy', 'xxxxx'], (6, 'c'): ['zzzzzz', 'yzzzzz', 'yyzzzz', 'yyyzzz', 'yyyyzz', 'yyyyyz', 'yyyyyy', 'xzzzzz', 'xyzzzz', 'xyyzzz', 'xyyyzz', 'xyyyyz', 'xyyyyy', 'xxzzzz', 'xxyzzz', 'xxyyzz', 'xxyyyz', 'xxyyyy', 'xxxzzz', 'xxxyzz', 'xxxyyz', 'xxxyyy', 'xxxxzz', 'xxxxyz', 'xxxxyy', 'xxxxxz', 'xxxxxy', 'xxxxxx'], (7, 'c'): ['zzzzzzz', 'yzzzzzz', 'yyzzzzz', 'yyyzzzz', 'yyyyzzz', 'yyyyyzz', 'yyyyyyz', 'yyyyyyy', 'xzzzzzz', 'xyzzzzz', 'xyyzzzz', 'xyyyzzz', 'xyyyyzz', 'xyyyyyz', 'xyyyyyy', 'xxzzzzz', 'xxyzzzz', 'xxyyzzz', 'xxyyyzz', 'xxyyyyz', 'xxyyyyy', 'xxxzzzz', 'xxxyzzz', 'xxxyyzz', 'xxxyyyz', 'xxxyyyy', 'xxxxzzz', 'xxxxyzz', 'xxxxyyz', 'xxxxyyy', 'xxxxxzz', 'xxxxxyz', 'xxxxxyy', 'xxxxxxz', 'xxxxxxy', 'xxxxxxx'], (8, 'c'): ['zzzzzzzz', 'yzzzzzzz', 'yyzzzzzz', 'yyyzzzzz', 'yyyyzzzz', 'yyyyyzzz', 'yyyyyyzz', 'yyyyyyyz', 'yyyyyyyy', 'xzzzzzzz', 'xyzzzzzz', 'xyyzzzzz', 'xyyyzzzz', 'xyyyyzzz', 'xyyyyyzz', 'xyyyyyyz', 'xyyyyyyy', 'xxzzzzzz', 'xxyzzzzz', 'xxyyzzzz', 'xxyyyzzz', 'xxyyyyzz', 'xxyyyyyz', 'xxyyyyyy', 'xxxzzzzz', 'xxxyzzzz', 'xxxyyzzz', 'xxxyyyzz', 'xxxyyyyz', 'xxxyyyyy', 'xxxxzzzz', 'xxxxyzzz', 'xxxxyyzz', 'xxxxyyyz', 'xxxxyyyy', 'xxxxxzzz', 'xxxxxyzz', 'xxxxxyyz', 'xxxxxyyy', 'xxxxxxzz', 'xxxxxxyz', 'xxxxxxyy', 'xxxxxxxz', 'xxxxxxxy', 'xxxxxxxx'], (9, 'c'): ['zzzzzzzzz', 'yzzzzzzzz', 'yyzzzzzzz', 'yyyzzzzzz', 'yyyyzzzzz', 'yyyyyzzzz', 'yyyyyyzzz', 'yyyyyyyzz', 'yyyyyyyyz', 'yyyyyyyyy', 'xzzzzzzzz', 'xyzzzzzzz', 'xyyzzzzzz', 'xyyyzzzzz', 'xyyyyzzzz', 'xyyyyyzzz', 'xyyyyyyzz', 'xyyyyyyyz', 'xyyyyyyyy', 'xxzzzzzzz', 'xxyzzzzzz', 'xxyyzzzzz', 'xxyyyzzzz', 'xxyyyyzzz', 'xxyyyyyzz', 'xxyyyyyyz', 'xxyyyyyyy', 'xxxzzzzzz', 'xxxyzzzzz', 'xxxyyzzzz', 'xxxyyyzzz', 'xxxyyyyzz', 'xxxyyyyyz', 'xxxyyyyyy', 'xxxxzzzzz', 'xxxxyzzzz', 'xxxxyyzzz', 'xxxxyyyzz', 'xxxxyyyyz', 'xxxxyyyyy', 'xxxxxzzzz', 'xxxxxyzzz', 'xxxxxyyzz', 'xxxxxyyyz', 'xxxxxyyyy', 'xxxxxxzzz', 'xxxxxxyzz', 'xxxxxxyyz', 'xxxxxxyyy', 'xxxxxxxzz', 'xxxxxxxyz', 'xxxxxxxyy', 'xxxxxxxxz', 'xxxxxxxxy', 'xxxxxxxxx']}, primitive_normalization='L2'), obasis_name='sto-3g', one_ints={}, one_rdms={'scf': array([[ 2.10503807e+00, -4.39115917e-01,  8.87107806e-02,\n",
       "         7.16046434e-16,  6.27282714e-02, -3.27810857e-02,\n",
       "        -3.27810800e-02],\n",
       "       [-4.39115917e-01,  1.93312061e+00, -5.06512403e-01,\n",
       "         1.03115828e-16, -3.58159960e-01, -1.54725977e-02,\n",
       "        -1.54725729e-02],\n",
       "       [ 8.87107806e-02, -5.06512403e-01,  1.10208185e+00,\n",
       "        -9.19125113e-16,  2.69718983e-01,  7.59035717e-02,\n",
       "         6.87997641e-01],\n",
       "       [ 7.16046434e-16,  1.03115828e-16, -9.19125113e-16,\n",
       "         2.00000000e+00, -1.38129990e-16, -2.78992150e-16,\n",
       "         1.49460969e-16],\n",
       "       [ 6.27282714e-02, -3.58159960e-01,  2.69718983e-01,\n",
       "        -1.38129990e-16,  9.11364268e-01,  7.02894999e-01,\n",
       "        -1.62732921e-01],\n",
       "       [-3.27810857e-02, -1.54725977e-02,  7.59035717e-02,\n",
       "        -2.78992150e-16,  7.02894999e-01,  5.86151074e-01,\n",
       "        -1.93687449e-01],\n",
       "       [-3.27810800e-02, -1.54725729e-02,  6.87997641e-01,\n",
       "         1.49460969e-16, -1.62732921e-01, -1.93687449e-01,\n",
       "         5.86151122e-01]])}, run_type='energy', _spinpol=None, title='Foo Bar', two_ints={}, two_rdms={})"
      ]
     },
     "execution_count": 71,
     "metadata": {},
     "output_type": "execute_result"
    }
   ],
   "source": [
    "mol"
   ]
  },
  {
   "cell_type": "code",
   "execution_count": 72,
   "metadata": {},
   "outputs": [
    {
     "data": {
      "text/plain": [
       "True"
      ]
     },
     "execution_count": 72,
     "metadata": {},
     "output_type": "execute_result"
    }
   ],
   "source": [
    "hasattr(mol, 'obasis')"
   ]
  },
  {
   "cell_type": "code",
   "execution_count": 73,
   "metadata": {},
   "outputs": [
    {
     "data": {
      "text/plain": [
       "True"
      ]
     },
     "execution_count": 73,
     "metadata": {},
     "output_type": "execute_result"
    }
   ],
   "source": [
    "hasattr(mol.obasis, 'conventions')"
   ]
  },
  {
   "cell_type": "code",
   "execution_count": 74,
   "metadata": {},
   "outputs": [],
   "source": [
    "from gbasis.integrals.moment import moment_integral"
   ]
  },
  {
   "cell_type": "code",
   "execution_count": 75,
   "metadata": {},
   "outputs": [
    {
     "data": {
      "text/plain": [
       "array([[0, 0, 3],\n",
       "       [0, 1, 2],\n",
       "       [0, 2, 1],\n",
       "       [0, 3, 0],\n",
       "       [1, 0, 2],\n",
       "       [1, 1, 1],\n",
       "       [1, 2, 0],\n",
       "       [2, 0, 1],\n",
       "       [2, 1, 0],\n",
       "       [3, 0, 0]])"
      ]
     },
     "execution_count": 75,
     "metadata": {},
     "output_type": "execute_result"
    }
   ],
   "source": [
    "n = 3\n",
    "moment_orders = np.array([[x,y,n-x-y] for x in range(n+1) for y in range(n-x+1)])\n",
    "moment_orders"
   ]
  },
  {
   "cell_type": "code",
   "execution_count": 76,
   "metadata": {},
   "outputs": [
    {
     "data": {
      "text/plain": [
       "(3, 7, 7, 10)"
      ]
     },
     "execution_count": 76,
     "metadata": {},
     "output_type": "execute_result"
    }
   ],
   "source": [
    "overlap_integral = []\n",
    "for xyz in mol.atcoords:\n",
    "    int_list = moment_integral(\n",
    "        basis, \n",
    "        moment_coord = xyz, \n",
    "        moment_orders=moment_orders,\n",
    "        coord_type='cartesian'\n",
    "    )\n",
    "    overlap_integral.append(int_list)\n",
    "np.array(overlap_integral).shape"
   ]
  },
  {
   "cell_type": "markdown",
   "metadata": {},
   "source": [
    "next check if the integral is actually correct by calculating dipole moments from it."
   ]
  }
 ],
 "metadata": {
  "kernelspec": {
   "display_name": "Python 3",
   "language": "python",
   "name": "python3"
  }
 },
 "nbformat": 4,
 "nbformat_minor": 2
}
